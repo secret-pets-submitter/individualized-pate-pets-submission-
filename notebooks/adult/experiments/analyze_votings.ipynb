{
 "cells": [
  {
   "cell_type": "markdown",
   "id": "arabic-nelson",
   "metadata": {},
   "source": [
    "# This notebook supports the creation of overview tables for experiments on the Adult dataset."
   ]
  },
  {
   "cell_type": "markdown",
   "id": "final-assistant",
   "metadata": {},
   "source": [
    "Organize imports, set constants, and load result files."
   ]
  },
  {
   "cell_type": "code",
   "execution_count": 1,
   "id": "decimal-probability",
   "metadata": {},
   "outputs": [],
   "source": [
    "import math\n",
    "import numpy as np\n",
    "import pandas as pd\n",
    "import matplotlib.pyplot as plt\n",
    "from matplotlib.lines import Line2D\n",
    "import seaborn as sns\n",
    "from ast import literal_eval\n",
    "\n",
    "CONSTANT = 2\n",
    "PATH = f'log{CONSTANT}/'\n",
    "\n",
    "df_v = pd.read_csv(f'{PATH}results_voting.csv')\n",
    "df_s = pd.read_csv(f'{PATH}results_student.csv')\n",
    "\n",
    "df_vb = pd.read_csv(f'{PATH}baseline/results_voting.csv')\n",
    "df_sb = pd.read_csv(f'{PATH}baseline/results_student.csv')"
   ]
  },
  {
   "cell_type": "code",
   "execution_count": 2,
   "id": "cathedral-orchestra",
   "metadata": {},
   "outputs": [
    {
     "name": "stdout",
     "output_type": "stream",
     "text": [
      "Statistics on voting accuracies (in %):\n",
      "min: 84.5\n",
      "max: 87.6\n",
      "avg: 86.16\n",
      "std: 0.6\n",
      "\n",
      "baselines:\n",
      "min: 84.9\n",
      "max: 87.5\n",
      "avg: 86.18\n",
      "std: 0.61\n"
     ]
    }
   ],
   "source": [
    "print('Statistics on voting accuracies (in %):')\n",
    "\n",
    "va_min = round(np.min(df_v['accuracy']) * 100, 2)\n",
    "va_max = round(np.max(df_v['accuracy']) * 100, 2)\n",
    "va_avg = round(np.mean(df_v['accuracy']) * 100, 2)\n",
    "va_std = round(np.std(df_v['accuracy']) * 100, 2)\n",
    "\n",
    "bva_min = round(np.min(df_vb['accuracy']) * 100, 2)\n",
    "bva_max = round(np.max(df_vb['accuracy']) * 100, 2)\n",
    "bva_avg = round(np.mean(df_vb['accuracy']) * 100, 2)\n",
    "bva_std = round(np.std(df_vb['accuracy']) * 100, 2)\n",
    "\n",
    "print('min:', va_min)\n",
    "print('max:', va_max)\n",
    "print('avg:', va_avg)\n",
    "print('std:', va_std)\n",
    "print('\\nbaselines:')\n",
    "print('min:', bva_min)\n",
    "print('max:', bva_max)\n",
    "print('avg:', bva_avg)\n",
    "print('std:', bva_std)"
   ]
  },
  {
   "cell_type": "code",
   "execution_count": 3,
   "id": "patient-storm",
   "metadata": {},
   "outputs": [
    {
     "name": "stdout",
     "output_type": "stream",
     "text": [
      "Table of average voting accuracy per personalization.\n",
      "\n",
      "average of GNMax: 86.18\n"
     ]
    },
    {
     "data": {
      "text/html": [
       "<div>\n",
       "<style scoped>\n",
       "    .dataframe tbody tr th:only-of-type {\n",
       "        vertical-align: middle;\n",
       "    }\n",
       "\n",
       "    .dataframe tbody tr th {\n",
       "        vertical-align: top;\n",
       "    }\n",
       "\n",
       "    .dataframe thead th {\n",
       "        text-align: right;\n",
       "    }\n",
       "</style>\n",
       "<table border=\"1\" class=\"dataframe\">\n",
       "  <thead>\n",
       "    <tr style=\"text-align: right;\">\n",
       "      <th></th>\n",
       "      <th>0.25</th>\n",
       "      <th>0.50</th>\n",
       "      <th>0.75</th>\n",
       "    </tr>\n",
       "  </thead>\n",
       "  <tbody>\n",
       "    <tr>\n",
       "      <th>2</th>\n",
       "      <td>(86.19, 86.15, 86.15)</td>\n",
       "      <td>(86.17, 86.16, 86.19)</td>\n",
       "      <td>(86.13, 86.17, 86.16)</td>\n",
       "    </tr>\n",
       "    <tr>\n",
       "      <th>4</th>\n",
       "      <td>(86.17, 86.11, 86.15)</td>\n",
       "      <td>(86.17, 86.15, 86.18)</td>\n",
       "      <td>(86.17, 86.16, 86.17)</td>\n",
       "    </tr>\n",
       "    <tr>\n",
       "      <th>8</th>\n",
       "      <td>(86.2, 86.15, 86.16)</td>\n",
       "      <td>(86.18, 86.16, 86.18)</td>\n",
       "      <td>(86.15, 86.17, 86.17)</td>\n",
       "    </tr>\n",
       "  </tbody>\n",
       "</table>\n",
       "</div>"
      ],
      "text/plain": [
       "                    0.25                   0.50                   0.75\n",
       "2  (86.19, 86.15, 86.15)  (86.17, 86.16, 86.19)  (86.13, 86.17, 86.16)\n",
       "4  (86.17, 86.11, 86.15)  (86.17, 86.15, 86.18)  (86.17, 86.16, 86.17)\n",
       "8   (86.2, 86.15, 86.16)  (86.18, 86.16, 86.18)  (86.15, 86.17, 86.17)"
      ]
     },
     "execution_count": 3,
     "metadata": {},
     "output_type": "execute_result"
    }
   ],
   "source": [
    "df = df_v\n",
    "\n",
    "epsilons = [2, 4, 8]\n",
    "distributions = [0.25, 0.5, 0.75]\n",
    "\n",
    "res = {\n",
    "    2: [],\n",
    "    4: [],\n",
    "    8: [],\n",
    "}\n",
    "for e in epsilons:\n",
    "    for d in distributions:\n",
    "        data = df[(df['budgets_linear'] == str([CONSTANT * 1.0, CONSTANT * 1.0 * e])) &\n",
    "                  (df['distribution'] == str({label: (1 - d, d) for label in [0, 1]}))]\n",
    "        u = round(np.mean(data[data['collector'] == 'uGNMax']['accuracy']) * 100, 2)\n",
    "        v = round(np.mean(data[data['collector'] == 'vGNMax']['accuracy']) * 100, 2)\n",
    "        w = round(np.mean(data[data['collector'] == 'wGNMax']['accuracy']) * 100, 2)\n",
    "        res[e].append((u, v, w))\n",
    "        \n",
    "print('Table of average voting accuracy per personalization.\\n')\n",
    "print('average of GNMax:', round(np.mean(df_vb['accuracy']) * 100, 2))\n",
    "pd.DataFrame(res, index=distributions).T"
   ]
  },
  {
   "cell_type": "code",
   "execution_count": 4,
   "id": "automatic-canon",
   "metadata": {},
   "outputs": [
    {
     "name": "stdout",
     "output_type": "stream",
     "text": [
      "Table of average number of produced labels per personalization.\n",
      "\n",
      "GNMax with budget 2 * 1: 88.46\n",
      "GNMax with budget 2 * 2: 354.04\n",
      "GNMax with budget 2 * 4: 763.08\n",
      "GNMax with budget 2 * 8: 1287.86\n"
     ]
    },
    {
     "data": {
      "text/html": [
       "<div>\n",
       "<style scoped>\n",
       "    .dataframe tbody tr th:only-of-type {\n",
       "        vertical-align: middle;\n",
       "    }\n",
       "\n",
       "    .dataframe tbody tr th {\n",
       "        vertical-align: top;\n",
       "    }\n",
       "\n",
       "    .dataframe thead th {\n",
       "        text-align: right;\n",
       "    }\n",
       "</style>\n",
       "<table border=\"1\" class=\"dataframe\">\n",
       "  <thead>\n",
       "    <tr style=\"text-align: right;\">\n",
       "      <th></th>\n",
       "      <th>0.25</th>\n",
       "      <th>0.50</th>\n",
       "      <th>0.75</th>\n",
       "    </tr>\n",
       "  </thead>\n",
       "  <tbody>\n",
       "    <tr>\n",
       "      <th>2</th>\n",
       "      <td>(140.24, 15.52, 139.36)</td>\n",
       "      <td>(202.38, 57.16, 203.28)</td>\n",
       "      <td>(272.4, 132.94, 272.52)</td>\n",
       "    </tr>\n",
       "    <tr>\n",
       "      <th>4</th>\n",
       "      <td>(197.82, 9.54, 198.02)</td>\n",
       "      <td>(345.68, 74.68, 348.74)</td>\n",
       "      <td>(541.46, 236.18, 542.52)</td>\n",
       "    </tr>\n",
       "    <tr>\n",
       "      <th>8</th>\n",
       "      <td>(263.64, 7.66, 259.16)</td>\n",
       "      <td>(529.56, 95.4, 530.46)</td>\n",
       "      <td>(868.1, 399.72, 871.62)</td>\n",
       "    </tr>\n",
       "  </tbody>\n",
       "</table>\n",
       "</div>"
      ],
      "text/plain": [
       "                      0.25                     0.50                      0.75\n",
       "2  (140.24, 15.52, 139.36)  (202.38, 57.16, 203.28)   (272.4, 132.94, 272.52)\n",
       "4   (197.82, 9.54, 198.02)  (345.68, 74.68, 348.74)  (541.46, 236.18, 542.52)\n",
       "8   (263.64, 7.66, 259.16)   (529.56, 95.4, 530.46)   (868.1, 399.72, 871.62)"
      ]
     },
     "execution_count": 4,
     "metadata": {},
     "output_type": "execute_result"
    }
   ],
   "source": [
    "df = df_s\n",
    "\n",
    "epsilons = [2, 4, 8]\n",
    "distributions = [0.25, 0.5, 0.75]\n",
    "\n",
    "res = {\n",
    "    2: [],\n",
    "    4: [],\n",
    "    8: [],\n",
    "}\n",
    "for e in epsilons:\n",
    "    for d in distributions:\n",
    "        data = df[(df['budgets_linear'] == str([CONSTANT * 1.0, CONSTANT * 1.0 * e])) &\n",
    "                  (df['distribution'] == str({label: (1 - d, d) for label in [0, 1]}))]\n",
    "        u = round(np.mean(data[data['collector'] == 'uGNMax']['n_labels']), 2)\n",
    "        v = round(np.mean(data[data['collector'] == 'vGNMax']['n_labels']), 2)\n",
    "        w = round(np.mean(data[data['collector'] == 'wGNMax']['n_labels']), 2)\n",
    "        res[e].append((u, v, w))\n",
    "\n",
    "print('Table of average number of produced labels per personalization.\\n')\n",
    "for e in [1, 2, 4, 8]:\n",
    "    x = math.log(CONSTANT * 1.0 * e)\n",
    "    print(f'GNMax with budget {CONSTANT} * {e}:',\n",
    "          round(np.mean(df_sb[df_sb['limit'] == f'({x},)']['n_labels']), 2))\n",
    "pd.DataFrame(res, index=distributions).T"
   ]
  },
  {
   "cell_type": "code",
   "execution_count": 5,
   "id": "lucky-exchange",
   "metadata": {},
   "outputs": [
    {
     "name": "stdout",
     "output_type": "stream",
     "text": [
      "Table of average accuracy (in %) per personalization.\n",
      "\n",
      "GNMax with budget 2 * 1: 79.85\n",
      "GNMax with budget 2 * 2: 82.52\n",
      "GNMax with budget 2 * 4: 83.02\n",
      "GNMax with budget 2 * 8: 83.23\n"
     ]
    },
    {
     "data": {
      "text/html": [
       "<div>\n",
       "<style scoped>\n",
       "    .dataframe tbody tr th:only-of-type {\n",
       "        vertical-align: middle;\n",
       "    }\n",
       "\n",
       "    .dataframe tbody tr th {\n",
       "        vertical-align: top;\n",
       "    }\n",
       "\n",
       "    .dataframe thead th {\n",
       "        text-align: right;\n",
       "    }\n",
       "</style>\n",
       "<table border=\"1\" class=\"dataframe\">\n",
       "  <thead>\n",
       "    <tr style=\"text-align: right;\">\n",
       "      <th></th>\n",
       "      <th>0.25</th>\n",
       "      <th>0.50</th>\n",
       "      <th>0.75</th>\n",
       "    </tr>\n",
       "  </thead>\n",
       "  <tbody>\n",
       "    <tr>\n",
       "      <th>2</th>\n",
       "      <td>(81.02, 76.17, 80.87)</td>\n",
       "      <td>(81.76, 78.62, 81.76)</td>\n",
       "      <td>(82.16, 80.7, 82.26)</td>\n",
       "    </tr>\n",
       "    <tr>\n",
       "      <th>4</th>\n",
       "      <td>(81.79, 75.73, 81.67)</td>\n",
       "      <td>(82.52, 79.32, 82.6)</td>\n",
       "      <td>(82.87, 82.09, 82.89)</td>\n",
       "    </tr>\n",
       "    <tr>\n",
       "      <th>8</th>\n",
       "      <td>(82.3, 75.31, 82.25)</td>\n",
       "      <td>(82.82, 79.97, 82.84)</td>\n",
       "      <td>(83.07, 82.72, 83.04)</td>\n",
       "    </tr>\n",
       "  </tbody>\n",
       "</table>\n",
       "</div>"
      ],
      "text/plain": [
       "                    0.25                   0.50                   0.75\n",
       "2  (81.02, 76.17, 80.87)  (81.76, 78.62, 81.76)   (82.16, 80.7, 82.26)\n",
       "4  (81.79, 75.73, 81.67)   (82.52, 79.32, 82.6)  (82.87, 82.09, 82.89)\n",
       "8   (82.3, 75.31, 82.25)  (82.82, 79.97, 82.84)  (83.07, 82.72, 83.04)"
      ]
     },
     "execution_count": 5,
     "metadata": {},
     "output_type": "execute_result"
    }
   ],
   "source": [
    "df = df_s\n",
    "\n",
    "epsilons = [2, 4, 8]\n",
    "distributions = [0.25, 0.5, 0.75]\n",
    "\n",
    "res = {\n",
    "    2: [],\n",
    "    4: [],\n",
    "    8: [],\n",
    "}\n",
    "for e in epsilons:\n",
    "    for d in distributions:\n",
    "        data = df[(df['budgets_linear'] == str([CONSTANT * 1.0, CONSTANT * 1.0 * e])) &\n",
    "                  (df['distribution'] == str({label: (1 - d, d) for label in [0, 1]}))]\n",
    "        u = round(np.mean(data[data['collector'] == 'uGNMax']['test_accuracy']) * 100, 2)\n",
    "        v = round(np.mean(data[data['collector'] == 'vGNMax']['test_accuracy']) * 100, 2)\n",
    "        w = round(np.mean(data[data['collector'] == 'wGNMax']['test_accuracy']) * 100, 2)\n",
    "        res[e].append((u, v, w))\n",
    "        \n",
    "print('Table of average accuracy (in %) per personalization.\\n')\n",
    "for e in [1, 2, 4, 8]:\n",
    "    x = math.log(CONSTANT * 1.0 * e)\n",
    "    print(f'GNMax with budget {CONSTANT} * {e}:',\n",
    "          round(np.mean(df_sb[df_sb['limit'] == f'({x},)']['test_accuracy']) * 100, 2))\n",
    "pd.DataFrame(res, index=distributions).T"
   ]
  },
  {
   "cell_type": "code",
   "execution_count": 6,
   "id": "desirable-opera",
   "metadata": {},
   "outputs": [
    {
     "name": "stdout",
     "output_type": "stream",
     "text": [
      "Table of average accuracy for non-personalized GNMax with average budget per personalization.\n",
      "\n"
     ]
    },
    {
     "data": {
      "text/html": [
       "<div>\n",
       "<style scoped>\n",
       "    .dataframe tbody tr th:only-of-type {\n",
       "        vertical-align: middle;\n",
       "    }\n",
       "\n",
       "    .dataframe tbody tr th {\n",
       "        vertical-align: top;\n",
       "    }\n",
       "\n",
       "    .dataframe thead th {\n",
       "        text-align: right;\n",
       "    }\n",
       "</style>\n",
       "<table border=\"1\" class=\"dataframe\">\n",
       "  <thead>\n",
       "    <tr style=\"text-align: right;\">\n",
       "      <th></th>\n",
       "      <th>0.25</th>\n",
       "      <th>0.50</th>\n",
       "      <th>0.75</th>\n",
       "    </tr>\n",
       "  </thead>\n",
       "  <tbody>\n",
       "    <tr>\n",
       "      <th>2</th>\n",
       "      <td>81.18</td>\n",
       "      <td>82.00</td>\n",
       "      <td>82.36</td>\n",
       "    </tr>\n",
       "    <tr>\n",
       "      <th>4</th>\n",
       "      <td>82.36</td>\n",
       "      <td>82.81</td>\n",
       "      <td>83.01</td>\n",
       "    </tr>\n",
       "    <tr>\n",
       "      <th>8</th>\n",
       "      <td>82.84</td>\n",
       "      <td>83.10</td>\n",
       "      <td>83.19</td>\n",
       "    </tr>\n",
       "  </tbody>\n",
       "</table>\n",
       "</div>"
      ],
      "text/plain": [
       "    0.25   0.50   0.75\n",
       "2  81.18  82.00  82.36\n",
       "4  82.36  82.81  83.01\n",
       "8  82.84  83.10  83.19"
      ]
     },
     "execution_count": 6,
     "metadata": {},
     "output_type": "execute_result"
    }
   ],
   "source": [
    "df = df_s\n",
    "\n",
    "epsilons = [2, 4, 8]\n",
    "distributions = [0.25, 0.5, 0.75]\n",
    "\n",
    "res = {\n",
    "    2: [],\n",
    "    4: [],\n",
    "    8: [],\n",
    "}\n",
    "for e in epsilons:\n",
    "    for d in distributions:\n",
    "        data = df[(df['budgets_linear'] == str([CONSTANT * 1.0, CONSTANT * 1.0 * e])) &\n",
    "                  (df['distribution'] == str({label: (1 - d, d) for label in [0, 1]}))]\n",
    "        t = data['avg_budget'].iloc[0]\n",
    "        res[e].append(round(np.mean(df_sb[df_sb['limit'] == str((t,))]['test_accuracy']) * 100, 2))\n",
    "\n",
    "print('Table of average accuracy for non-personalized GNMax with average budget per personalization.\\n')\n",
    "pd.DataFrame(res, index=distributions).T"
   ]
  },
  {
   "cell_type": "code",
   "execution_count": 7,
   "id": "vocal-lebanon",
   "metadata": {},
   "outputs": [
    {
     "name": "stdout",
     "output_type": "stream",
     "text": [
      "Table of average number of labels for non-personalized GNMax with average budget per personalization.\n",
      "\n"
     ]
    },
    {
     "data": {
      "text/html": [
       "<div>\n",
       "<style scoped>\n",
       "    .dataframe tbody tr th:only-of-type {\n",
       "        vertical-align: middle;\n",
       "    }\n",
       "\n",
       "    .dataframe tbody tr th {\n",
       "        vertical-align: top;\n",
       "    }\n",
       "\n",
       "    .dataframe thead th {\n",
       "        text-align: right;\n",
       "    }\n",
       "</style>\n",
       "<table border=\"1\" class=\"dataframe\">\n",
       "  <thead>\n",
       "    <tr style=\"text-align: right;\">\n",
       "      <th></th>\n",
       "      <th>0.25</th>\n",
       "      <th>0.50</th>\n",
       "      <th>0.75</th>\n",
       "    </tr>\n",
       "  </thead>\n",
       "  <tbody>\n",
       "    <tr>\n",
       "      <th>2</th>\n",
       "      <td>157.94</td>\n",
       "      <td>225.34</td>\n",
       "      <td>290.64</td>\n",
       "    </tr>\n",
       "    <tr>\n",
       "      <th>4</th>\n",
       "      <td>290.64</td>\n",
       "      <td>474.38</td>\n",
       "      <td>627.66</td>\n",
       "    </tr>\n",
       "    <tr>\n",
       "      <th>8</th>\n",
       "      <td>527.58</td>\n",
       "      <td>842.54</td>\n",
       "      <td>1089.88</td>\n",
       "    </tr>\n",
       "  </tbody>\n",
       "</table>\n",
       "</div>"
      ],
      "text/plain": [
       "     0.25    0.50     0.75\n",
       "2  157.94  225.34   290.64\n",
       "4  290.64  474.38   627.66\n",
       "8  527.58  842.54  1089.88"
      ]
     },
     "execution_count": 7,
     "metadata": {},
     "output_type": "execute_result"
    }
   ],
   "source": [
    "df = df_s\n",
    "\n",
    "epsilons = [2, 4, 8]\n",
    "distributions = [0.25, 0.5, 0.75]\n",
    "\n",
    "res = {\n",
    "    2: [],\n",
    "    4: [],\n",
    "    8: [],\n",
    "}\n",
    "for e in epsilons:\n",
    "    for d in distributions:\n",
    "        data = df[(df['budgets_linear'] == str([CONSTANT * 1.0, CONSTANT * 1.0 * e])) &\n",
    "                  (df['distribution'] == str({label: (1 - d, d) for label in [0, 1]}))]\n",
    "        t = data['avg_budget'].iloc[0]\n",
    "        res[e].append(round(np.mean(df_sb[df_sb['limit'] == str((t,))]['n_labels']), 2))\n",
    "\n",
    "print('Table of average number of labels for non-personalized GNMax with average budget per personalization.\\n')\n",
    "pd.DataFrame(res, index=distributions).T"
   ]
  }
 ],
 "metadata": {
  "kernelspec": {
   "display_name": "Python 3",
   "language": "python",
   "name": "python3"
  },
  "language_info": {
   "codemirror_mode": {
    "name": "ipython",
    "version": 3
   },
   "file_extension": ".py",
   "mimetype": "text/x-python",
   "name": "python",
   "nbconvert_exporter": "python",
   "pygments_lexer": "ipython3",
   "version": "3.8.10"
  }
 },
 "nbformat": 4,
 "nbformat_minor": 5
}
